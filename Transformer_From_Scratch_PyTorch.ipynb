{
  "nbformat": 4,
  "nbformat_minor": 0,
  "metadata": {
    "colab": {
      "provenance": []
    },
    "kernelspec": {
      "name": "python3",
      "display_name": "Python 3"
    },
    "language_info": {
      "name": "python"
    }
  },
  "cells": [
    {
      "cell_type": "code",
      "execution_count": 1,
      "metadata": {
        "colab": {
          "base_uri": "https://localhost:8080/"
        },
        "id": "W77M2nF77LAC",
        "outputId": "e16fe5d8-2cf8-4985-d6d1-4286a9129532"
      },
      "outputs": [
        {
          "output_type": "stream",
          "name": "stdout",
          "text": [
            "Requirement already satisfied: torch in /usr/local/lib/python3.11/dist-packages (2.5.1+cu121)\n",
            "Requirement already satisfied: torchvision in /usr/local/lib/python3.11/dist-packages (0.20.1+cu121)\n",
            "Requirement already satisfied: torchaudio in /usr/local/lib/python3.11/dist-packages (2.5.1+cu121)\n",
            "Requirement already satisfied: filelock in /usr/local/lib/python3.11/dist-packages (from torch) (3.16.1)\n",
            "Requirement already satisfied: typing-extensions>=4.8.0 in /usr/local/lib/python3.11/dist-packages (from torch) (4.12.2)\n",
            "Requirement already satisfied: networkx in /usr/local/lib/python3.11/dist-packages (from torch) (3.4.2)\n",
            "Requirement already satisfied: jinja2 in /usr/local/lib/python3.11/dist-packages (from torch) (3.1.5)\n",
            "Requirement already satisfied: fsspec in /usr/local/lib/python3.11/dist-packages (from torch) (2024.10.0)\n",
            "Requirement already satisfied: nvidia-cuda-nvrtc-cu12==12.1.105 in /usr/local/lib/python3.11/dist-packages (from torch) (12.1.105)\n",
            "Requirement already satisfied: nvidia-cuda-runtime-cu12==12.1.105 in /usr/local/lib/python3.11/dist-packages (from torch) (12.1.105)\n",
            "Requirement already satisfied: nvidia-cuda-cupti-cu12==12.1.105 in /usr/local/lib/python3.11/dist-packages (from torch) (12.1.105)\n",
            "Requirement already satisfied: nvidia-cudnn-cu12==9.1.0.70 in /usr/local/lib/python3.11/dist-packages (from torch) (9.1.0.70)\n",
            "Requirement already satisfied: nvidia-cublas-cu12==12.1.3.1 in /usr/local/lib/python3.11/dist-packages (from torch) (12.1.3.1)\n",
            "Requirement already satisfied: nvidia-cufft-cu12==11.0.2.54 in /usr/local/lib/python3.11/dist-packages (from torch) (11.0.2.54)\n",
            "Requirement already satisfied: nvidia-curand-cu12==10.3.2.106 in /usr/local/lib/python3.11/dist-packages (from torch) (10.3.2.106)\n",
            "Requirement already satisfied: nvidia-cusolver-cu12==11.4.5.107 in /usr/local/lib/python3.11/dist-packages (from torch) (11.4.5.107)\n",
            "Requirement already satisfied: nvidia-cusparse-cu12==12.1.0.106 in /usr/local/lib/python3.11/dist-packages (from torch) (12.1.0.106)\n",
            "Requirement already satisfied: nvidia-nccl-cu12==2.21.5 in /usr/local/lib/python3.11/dist-packages (from torch) (2.21.5)\n",
            "Requirement already satisfied: nvidia-nvtx-cu12==12.1.105 in /usr/local/lib/python3.11/dist-packages (from torch) (12.1.105)\n",
            "Requirement already satisfied: triton==3.1.0 in /usr/local/lib/python3.11/dist-packages (from torch) (3.1.0)\n",
            "Requirement already satisfied: sympy==1.13.1 in /usr/local/lib/python3.11/dist-packages (from torch) (1.13.1)\n",
            "Requirement already satisfied: nvidia-nvjitlink-cu12 in /usr/local/lib/python3.11/dist-packages (from nvidia-cusolver-cu12==11.4.5.107->torch) (12.6.85)\n",
            "Requirement already satisfied: mpmath<1.4,>=1.1.0 in /usr/local/lib/python3.11/dist-packages (from sympy==1.13.1->torch) (1.3.0)\n",
            "Requirement already satisfied: numpy in /usr/local/lib/python3.11/dist-packages (from torchvision) (1.26.4)\n",
            "Requirement already satisfied: pillow!=8.3.*,>=5.3.0 in /usr/local/lib/python3.11/dist-packages (from torchvision) (11.1.0)\n",
            "Requirement already satisfied: MarkupSafe>=2.0 in /usr/local/lib/python3.11/dist-packages (from jinja2->torch) (3.0.2)\n"
          ]
        }
      ],
      "source": [
        "!pip install torch torchvision torchaudio"
      ]
    },
    {
      "cell_type": "code",
      "source": [
        "import torch\n",
        "import torch.nn as nn\n",
        "import torch.optim as optim\n",
        "import torch.utils.data as data\n",
        "import math\n",
        "import copy"
      ],
      "metadata": {
        "id": "nLrh87pc7RNf"
      },
      "execution_count": 48,
      "outputs": []
    },
    {
      "cell_type": "code",
      "source": [
        "class MultiHeadAttention(nn.Module) :\n",
        "  def __init__(self, d_model, num_heads) :\n",
        "    super(MultiHeadAttention, self).__init__()\n",
        "\n",
        "    assert d_model % num_heads == 0, \"d_model must be divisible by num_heads\"\n",
        "\n",
        "    #dimensions\n",
        "    self.d_model = d_model\n",
        "    self.num_heads = num_heads\n",
        "    self.d_k = d_model // num_heads\n",
        "\n",
        "    #Linear Layers of Transformer Input\n",
        "    self.W_q = nn.Linear(d_model, d_model)\n",
        "    self.W_k = nn.Linear(d_model, d_model)\n",
        "    self.W_v = nn.Linear(d_model, d_model)\n",
        "    self.W_o = nn.Linear(d_model, d_model)\n",
        "\n",
        "  def scaled_dot_product_attention(self, Q, K, V, mask = None) :\n",
        "    attention_scores = torch.matmul(Q, K.transpose(-2, -1)) / math.sqrt(self.d_k)\n",
        "\n",
        "    if mask is not None :\n",
        "      attention_scores = attention_scores.masked_fill(mask == 0, -1e9)\n",
        "\n",
        "    attention_probabilities = torch.softmax(attention_scores, dim = -1)\n",
        "\n",
        "    output = torch.matmul(attention_probabilities, V)\n",
        "\n",
        "    return output\n",
        "\n",
        "  def split_heads(self, x) :\n",
        "    batch_size, seq_length, d_model = x.size()\n",
        "    return x.view(batch_size, seq_length, self.num_heads, self.d_k).transpose(1, 2)\n",
        "\n",
        "  def combine_heads(self, x) :\n",
        "    batch_size, _, seq_length, d_k = x.size()\n",
        "    return x.transpose(1, 2).contiguous().view(batch_size, seq_length, self.d_model)\n",
        "\n",
        "  def forward(self, Q, K, V, mask = None) :\n",
        "    Q = self.split_heads(self.W_q(Q))\n",
        "    K = self.split_heads(self.W_k(K))\n",
        "    V = self.split_heads(self.W_v(V))\n",
        "\n",
        "    attention_output = self.scaled_dot_product_attention(Q, K, V, mask)\n",
        "\n",
        "    output = self.W_o(self.combine_heads(attention_output))\n",
        "\n",
        "    return output"
      ],
      "metadata": {
        "id": "z4vKYnxu7YdN"
      },
      "execution_count": 49,
      "outputs": []
    },
    {
      "cell_type": "code",
      "source": [
        "class PositionWiseFeedForward(nn.Module) :\n",
        "  def __init__(self, d_model, d_ff) :\n",
        "    super(PositionWiseFeedForward, self).__init__()\n",
        "    self.fc1 = nn.Linear(d_model, d_ff)\n",
        "    self.fc2 = nn.Linear(d_ff, d_model)\n",
        "    self.relu = nn.ReLU()\n",
        "\n",
        "  def forward(self, x) :\n",
        "    return self.fc2(self.relu(self.fc1(x)))"
      ],
      "metadata": {
        "id": "yp7adMlt-bW9"
      },
      "execution_count": 50,
      "outputs": []
    },
    {
      "cell_type": "code",
      "source": [
        "class PositionalEncoding(nn.Module) :\n",
        "  def __init__(self, d_model, max_seq_length) :\n",
        "    super(PositionalEncoding, self).__init__()\n",
        "\n",
        "    pe = torch.zeros(max_seq_length, d_model)\n",
        "    position = torch.arange(0, max_seq_length, dtype = torch.float).unsqueeze(1)\n",
        "    div_term = torch.exp(torch.arange(0, d_model, 2).float() * -(math.log(10000.0) / d_model))\n",
        "\n",
        "    pe[:, 0::2] = torch.sin(position * div_term)\n",
        "    pe[:, 1::2] = torch.cos(position * div_term)\n",
        "\n",
        "    self.register_buffer('pe', pe.unsqueeze(0))\n",
        "\n",
        "  def forward(self, x) :\n",
        "    return x + self.pe[:, :x.size(1)]"
      ],
      "metadata": {
        "id": "yerc4sqoASlp"
      },
      "execution_count": 51,
      "outputs": []
    },
    {
      "cell_type": "code",
      "source": [
        "class EncoderLayer(nn.Module) :\n",
        "  def __init__(self, d_model, num_heads, d_ff, dropout) :\n",
        "    super(EncoderLayer, self).__init__()\n",
        "    self.self_attention = MultiHeadAttention(d_model, num_heads)\n",
        "    self.feed_forward = PositionWiseFeedForward(d_model, d_ff)\n",
        "    self.norm1 = nn.LayerNorm(d_model)\n",
        "    self.norm2 = nn.LayerNorm(d_model)\n",
        "    self.dropout = nn.Dropout(dropout)\n",
        "\n",
        "  def forward(self, x, mask) :\n",
        "    attention_output = self.self_attention(x, x, x, mask)\n",
        "    x = self.norm1(x + self.dropout(attention_output))\n",
        "    ff_output = self.feed_forward(x)\n",
        "    x = self.norm2(x + self.dropout(ff_output))\n",
        "\n",
        "    return x"
      ],
      "metadata": {
        "id": "C0iJGxfKBZpQ"
      },
      "execution_count": 52,
      "outputs": []
    },
    {
      "cell_type": "code",
      "source": [
        "class DecoderLayer(nn.Module) :\n",
        "  def __init__(self, d_module, num_heads, d_ff, dropout) :\n",
        "    super(DecoderLayer, self).__init__()\n",
        "    self.self_attention = MultiHeadAttention(d_model, num_heads)\n",
        "    self.cross_attention = MultiHeadAttention(d_model, num_heads)\n",
        "    self.feed_forward = PositionWiseFeedForward(d_model, d_ff)\n",
        "    self.norm1 = nn.LayerNorm(d_model)\n",
        "    self.norm2 = nn.LayerNorm(d_model)\n",
        "    self.norm3 = nn.LayerNorm(d_model)\n",
        "    self.dropout = nn.Dropout(dropout)\n",
        "\n",
        "  def forward(self, x, enc_output, src_mask, tgt_mask) :\n",
        "    attention_output = self.self_attention(x, x, x, tgt_mask)\n",
        "    x = self.norm1(x + self.dropout(attention_output))\n",
        "    attention_output = self.cross_attention(x, enc_output, enc_output, src_mask)\n",
        "    x = self.norm2(x + self.dropout(attention_output))\n",
        "    ff_output = self.feed_forward(x)\n",
        "    x = self.norm3(x + self.dropout(ff_output))\n",
        "\n",
        "    return x"
      ],
      "metadata": {
        "id": "DogDwYxbIgUj"
      },
      "execution_count": 53,
      "outputs": []
    },
    {
      "cell_type": "code",
      "source": [
        "class Transformer(nn.Module) :\n",
        "  def __init__(self, src_vocab_size, tgt_vocab_size, d_model, num_heads, num_layers, d_ff, max_seq_length, dropout) :\n",
        "    super(Transformer, self).__init__()\n",
        "    self.encoder_embedding = nn.Embedding(src_vocab_size, d_model)\n",
        "    self.decoder_embedding = nn.Embedding(tgt_vocab_size, d_model)\n",
        "    self.positional_encoding = PositionalEncoding(d_model, max_seq_length)\n",
        "\n",
        "    self.encoder_layers = nn.ModuleList([EncoderLayer(d_model, num_heads, d_ff, dropout) for _ in range(num_layers)])\n",
        "    self.decoder_layers = nn.ModuleList([DecoderLayer(d_model, num_heads, d_ff, dropout) for _ in range(num_layers)])\n",
        "\n",
        "    self.fc = nn.Linear(d_model, tgt_vocab_size)\n",
        "    self.dropout = nn.Dropout(dropout)\n",
        "\n",
        "  def generate_mask(self, src, tgt) :\n",
        "    src_mask = (src != 0).unsqueeze(1).unsqueeze(2)\n",
        "    tgt_mask = (tgt != 0).unsqueeze(1).unsqueeze(3)\n",
        "    seq_length = tgt.size(1)\n",
        "    nopeak_mask = (1 - torch.triu(torch.ones(1, seq_length, seq_length), diagonal=1)).bool()\n",
        "    tgt_mask = tgt_mask & nopeak_mask\n",
        "\n",
        "    return src_mask, tgt_mask\n",
        "\n",
        "  def forward(self, src, tgt) :\n",
        "    src_mask, tgt_mask = self.generate_mask(src, tgt)\n",
        "    src_embedded = self.dropout(self.positional_encoding(self.encoder_embedding(src)))\n",
        "    tgt_embedded = self.dropout(self.positional_encoding(self.decoder_embedding(tgt)))\n",
        "\n",
        "    enc_output = src_embedded\n",
        "    for enc_layer in self.encoder_layers :\n",
        "      enc_output = enc_layer(enc_output, src_mask)\n",
        "\n",
        "    dec_output = tgt_embedded\n",
        "    for dec_layer in self.decoder_layers :\n",
        "      dec_output = dec_layer(dec_output, enc_output, src_mask, tgt_mask)\n",
        "\n",
        "    output = self.fc(dec_output)\n",
        "\n",
        "    return output"
      ],
      "metadata": {
        "id": "GyQezpZ4J_n0"
      },
      "execution_count": 54,
      "outputs": []
    },
    {
      "cell_type": "code",
      "source": [
        "src_vocab_size = 5000\n",
        "tgt_vocab_size = 5000\n",
        "\n",
        "d_model = 512\n",
        "\n",
        "num_heads = 8\n",
        "num_layers = 6\n",
        "d_ff = 2048\n",
        "max_seq_length = 150\n",
        "dropout = 0.1\n",
        "\n",
        "transformer = Transformer(src_vocab_size, tgt_vocab_size, d_model, num_heads, num_layers, d_ff, max_seq_length, dropout)\n",
        "\n",
        "src_data = torch.randint(1, src_vocab_size, (64, max_seq_length))\n",
        "tgt_data = torch.randint(1, tgt_vocab_size, (64, max_seq_length))"
      ],
      "metadata": {
        "id": "IaDDeWLUOrvy"
      },
      "execution_count": 55,
      "outputs": []
    },
    {
      "cell_type": "code",
      "source": [
        "criterion = nn.CrossEntropyLoss(ignore_index = 0)\n",
        "optimizer = optim.Adam(transformer.parameters(), lr = 0.0001, betas = (0.9, 0.98), eps = 1e-9)\n",
        "\n",
        "transformer.train()\n",
        "\n",
        "for epoch in range(25) :\n",
        "  optimizer.zero_grad()\n",
        "  output = transformer(src_data, tgt_data[:, :-1])\n",
        "  loss = criterion(output.contiguous().view(-1, tgt_vocab_size), tgt_data[:, 1:].contiguous().view(-1))\n",
        "  loss.backward()\n",
        "  optimizer.step()\n",
        "  print(f\"Epoch : {epoch + 1}, Loss : {loss.item()}\")"
      ],
      "metadata": {
        "colab": {
          "base_uri": "https://localhost:8080/"
        },
        "id": "UQoUff7mVnWs",
        "outputId": "9e0009a2-231d-4237-f32d-317384bc26b1"
      },
      "execution_count": null,
      "outputs": [
        {
          "output_type": "stream",
          "name": "stdout",
          "text": [
            "Epoch : 1, Loss : 8.684971809387207\n",
            "Epoch : 2, Loss : 8.578761100769043\n",
            "Epoch : 3, Loss : 8.515738487243652\n",
            "Epoch : 4, Loss : 8.474681854248047\n",
            "Epoch : 5, Loss : 8.42254638671875\n",
            "Epoch : 6, Loss : 8.371538162231445\n",
            "Epoch : 7, Loss : 8.3064546585083\n",
            "Epoch : 8, Loss : 8.242364883422852\n",
            "Epoch : 9, Loss : 8.171524047851562\n",
            "Epoch : 10, Loss : 8.110501289367676\n",
            "Epoch : 11, Loss : 8.048630714416504\n",
            "Epoch : 12, Loss : 7.977875709533691\n",
            "Epoch : 13, Loss : 7.907086372375488\n",
            "Epoch : 14, Loss : 7.840400695800781\n",
            "Epoch : 15, Loss : 7.777250289916992\n",
            "Epoch : 16, Loss : 7.703176498413086\n",
            "Epoch : 17, Loss : 7.638296604156494\n",
            "Epoch : 18, Loss : 7.57306432723999\n",
            "Epoch : 19, Loss : 7.507080078125\n"
          ]
        }
      ]
    }
  ]
}